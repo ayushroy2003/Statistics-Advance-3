{
 "cells": [
  {
   "cell_type": "markdown",
   "id": "c53617f6-4255-4f2d-898c-716f683ec55f",
   "metadata": {},
   "source": [
    "Q1: What is Estimation Statistics? Explain point estimate and interval estimate.\n",
    "\n",
    "Ans - It is an observed numerical values used to esitimate an unknown population parameter \n",
    "\n",
    "- Point estimate : Single numerical value used to estimate  the unknown population parameter\n",
    "Ex - Estimating the average height of all student by using the average height of a sample \n",
    "\n",
    "- Interval Estimate : Range of values used to estimate the unknown population\n",
    "Ex - Estimating the average height to be between 160 cm and 170 cm with 95% confidence "
   ]
  },
  {
   "cell_type": "markdown",
   "id": "e36c344d-cb13-468e-8bcb-ab43ec1fe274",
   "metadata": {},
   "source": [
    "Q2. Write a Python function to estimate the population mean using a sample mean and standard\n",
    "deviation.\n",
    "\n",
    "Ans - "
   ]
  },
  {
   "cell_type": "code",
   "execution_count": 1,
   "id": "9af5b2ad-2f28-4e02-92b3-ed55cc395089",
   "metadata": {},
   "outputs": [
    {
     "name": "stdout",
     "output_type": "stream",
     "text": [
      "estimated population mean :  100\n"
     ]
    }
   ],
   "source": [
    "def estimate_population_mean(sample_mean, standard_deviation,sample_size):\n",
    "    population_mean = sample_mean\n",
    "    return population_mean\n",
    "\n",
    "print(\"estimated population mean : \" ,estimate_population_mean(100,15,30))"
   ]
  },
  {
   "cell_type": "markdown",
   "id": "187a0e94-5ddc-4520-9404-cf6407ad3d27",
   "metadata": {},
   "source": [
    "Q3: What is Hypothesis testing? Why is it used? State the importance of Hypothesis testing.\n",
    "\n",
    "Ans - hypothesis testing is statistical method  used to make decision about a population based on sample data . It involve testing an assumption (the null hypothesis), against an alternative hypothesis to determine if there is enough evidence to support to support a claim\n",
    "\n",
    "It's used to:\n",
    "- Make data- driven desicion\n",
    "- test the valadity of assumption \n",
    "- Infer conclusion about a population\n",
    "\n",
    "Important of Hypothesis Testing \n",
    "- Scientific Research : validates theories and expiriments \n",
    "- Quality Control : Ensure Product meet standards \n",
    "- Medical Studies : Confirms the effiectiveness of treatments"
   ]
  },
  {
   "cell_type": "markdown",
   "id": "0e9d2361-db07-402e-91e5-72c1dc5153e6",
   "metadata": {},
   "source": [
    "Q4. Create a hypothesis that states whether the average weight of male college students is greater than\n",
    "the average weight of female college students.\n",
    "\n",
    "Ans - \n",
    "\n",
    "Null Hypothesis (Ho) : μ male ≤ μ female\n",
    "\n",
    "Alternative Hypothesis (H1) : μ male > μ female\n"
   ]
  },
  {
   "cell_type": "markdown",
   "id": "f2932530-418c-4354-a05c-fa7fb8d67c52",
   "metadata": {},
   "source": [
    "Q5. Write a Python script to conduct a hypothesis test on the difference between two population means,\n",
    "given a sample from each population.\n"
   ]
  },
  {
   "cell_type": "code",
   "execution_count": 2,
   "id": "24d2711b-650d-45c0-93d4-0e86fd163d4a",
   "metadata": {},
   "outputs": [
    {
     "name": "stdout",
     "output_type": "stream",
     "text": [
      "fail to reject null hypothesis\n",
      "T Statistics: -0.5011120467234326\n",
      "P Value : 0.6297874640890566\n"
     ]
    }
   ],
   "source": [
    "import scipy.stats as stats\n",
    "\n",
    "sample1 = [30,24,34,24,78]\n",
    "sample2 = [23,54,67,24,56]\n",
    "\n",
    "t_statistic, p_value = stats.ttest_ind(sample1,sample2)\n",
    "\n",
    "alpha = 0.05\n",
    "\n",
    "if p_value < alpha :\n",
    "    print(\"reject the null hypothesis\")\n",
    "else:\n",
    "    print(\"fail to reject null hypothesis\")\n",
    "    \n",
    "print(f\"T Statistics: {t_statistic}\")\n",
    "print(f\"P Value : { p_value}\")"
   ]
  },
  {
   "cell_type": "markdown",
   "id": "6b3e0905-da2a-472e-a35a-cf54b416faa9",
   "metadata": {},
   "source": [
    "Q6: What is a null and alternative hypothesis? Give some examples.\n",
    "\n",
    "Ans \n",
    "- Null Hypothesis (Ho) : This is default assumption that there is no effect , difference ,or relstionship.\n",
    "\n",
    "- Alternative Hypothesis (H1): This is what you want to prove  there is an effect , difference or relationship. \n",
    "\n",
    "Example : \n",
    "1. Testing a New drug :\n",
    "- Ho : The new drug has no effect on blood presure \n",
    "- H1 : The new drug lower blood preasure \n",
    "\n",
    "2. Quality Control in Manufacutring : \n",
    "- Ho : the average length of the manufactured rods is 10 cm\n",
    "- H1 : The average length of the manufactured rods is not 10cm\n",
    "\n",
    "3. Gender Difference in Test Score :\n",
    "- Ho :The avergage testg score of male and female student are same \n",
    "- H1 : the average test score of male and female student are differnt "
   ]
  },
  {
   "cell_type": "markdown",
   "id": "caa9ceae-1f61-4c53-9464-52654993f3f5",
   "metadata": {},
   "source": [
    "Q7: Write down the steps involved in hypothesis testing.\n",
    "\n",
    "Ans - Steps in Hypothesis testing \n",
    "1. State the Hypothesis\n",
    "- Null Hypothesis(Ho) : Assume there is no effect or difference \n",
    "- Alternative Hypothesis (H1) : Assume there is an effect or difference \n",
    "\n",
    "\n",
    "2. Choose the significance Level (α) :\n",
    "- Commonly set at 0.05 , this is probability of rejecting Ho when it is True.\n",
    "\n",
    "\n",
    "3. Select The test:\n",
    "- Choose the appropriate statistical test based on your data and hypothesis (e.g., t-test ,chi- sqare test )\n",
    "\n",
    "\n",
    "4. Collect data :\n",
    "- Gather sample data will be used for the test \n",
    "\n",
    "\n",
    "5. Calculate the test Statistic :\n",
    "- Compute the test statistics (e.g., t-value ,z-value) using your sample data\n",
    "\n",
    "\n",
    "6. Determine the P value :\n",
    "- The p-value indicates the probability of obtaining the observed result if Ho is true \n",
    "\n",
    "\n",
    "7. Make a Decision :\n",
    "- if P value ≤ α : Reject Ho\n",
    "- if P- value > α : fail to reject Ho\n",
    "\n",
    "\n",
    "8. Draw a conclusion :\n",
    "- interpet the results and conclude whether there is evidence to support H1\n"
   ]
  },
  {
   "cell_type": "markdown",
   "id": "a042a879-d700-497d-a201-cffeec40dff8",
   "metadata": {},
   "source": [
    "Q8. Define p-value and explain its significance in hypothesis testing.\n",
    "\n",
    "Ans - P Value : The P-value is number ,calculted from a statistical test, that describe How likely you are to have found a particaular set of operations if the null hypothesis were true \n",
    "\n",
    "\n",
    "The p-value indicates whether your results are statistically significant and helps decide if you should reject the null hypothesis.\n",
    "Significance in hypothesis testing \n",
    "\n",
    "- Low P-value (≤α) :strong evidence against Ho;reject the null hypothesis\n",
    "- High P- Value (>α) : weak evidsence against Ho ; fail to reject the null hypothesis\n"
   ]
  },
  {
   "cell_type": "markdown",
   "id": "17219df3-3f15-41c4-93be-60a365312b89",
   "metadata": {},
   "source": [
    "Q9. Generate a Student's t-distribution plot using Python's matplotlib library, with the degrees of freedom\n",
    "parameter set to 10.\n",
    "\n",
    "Ans - "
   ]
  },
  {
   "cell_type": "code",
   "execution_count": 3,
   "id": "cbc16d2d-f47e-4f05-8e2e-31e16df71da0",
   "metadata": {},
   "outputs": [
    {
     "name": "stdout",
     "output_type": "stream",
     "text": [
      "Requirement already satisfied: numpy in /opt/conda/lib/python3.10/site-packages (1.23.5)\n",
      "Collecting numpy\n",
      "  Downloading numpy-2.0.1-cp310-cp310-manylinux_2_17_x86_64.manylinux2014_x86_64.whl (19.5 MB)\n",
      "\u001b[2K     \u001b[90m━━━━━━━━━━━━━━━━━━━━━━━━━━━━━━━━━━━━━━━━\u001b[0m \u001b[32m19.5/19.5 MB\u001b[0m \u001b[31m44.5 MB/s\u001b[0m eta \u001b[36m0:00:00\u001b[0m00:01\u001b[0m00:01\u001b[0m\n",
      "\u001b[?25hInstalling collected packages: numpy\n",
      "  Attempting uninstall: numpy\n",
      "    Found existing installation: numpy 1.23.5\n",
      "    Uninstalling numpy-1.23.5:\n",
      "      Successfully uninstalled numpy-1.23.5\n",
      "\u001b[31mERROR: pip's dependency resolver does not currently take into account all the packages that are installed. This behaviour is the source of the following dependency conflicts.\n",
      "scipy 1.9.3 requires numpy<1.26.0,>=1.18.5, but you have numpy 2.0.1 which is incompatible.\n",
      "numba 0.56.4 requires numpy<1.24,>=1.18, but you have numpy 2.0.1 which is incompatible.\u001b[0m\u001b[31m\n",
      "\u001b[0mSuccessfully installed numpy-2.0.1\n",
      "Note: you may need to restart the kernel to use updated packages.\n"
     ]
    }
   ],
   "source": [
    "\n",
    "\n",
    "pip install --upgrade numpy\n"
   ]
  },
  {
   "cell_type": "code",
   "execution_count": 4,
   "id": "8e703e4b-f09d-4231-b926-81087662305e",
   "metadata": {},
   "outputs": [],
   "source": [
    "import numpy as np \n",
    "import matplotlib.pyplot as plt\n",
    "import scipy.stats as stats "
   ]
  },
  {
   "cell_type": "code",
   "execution_count": 5,
   "id": "e2ceb005-210d-4094-9fe4-8c7f7c2d1210",
   "metadata": {},
   "outputs": [
    {
     "data": {
      "image/png": "[encoded data removed]",
      "text/plain": [
       "<Figure size 800x600 with 1 Axes>"
      ]
     },
     "metadata": {},
     "output_type": "display_data"
    }
   ],
   "source": [
    "df = 29\n",
    "\n",
    "x = np.linspace(-5, 5,1000)\n",
    "y = stats.t.pdf(x, df)\n",
    "\n",
    "\n",
    "plt.figure(figsize=(8,6))\n",
    "plt.plot(x,y, label=f\"T-Disribution (df={df})\", color='green')\n",
    "plt.title(\"student 's  T distribution\")\n",
    "plt.xlabel('x')\n",
    "plt.ylabel(\"Probability Density\")\n",
    "plt.legend()\n",
    "plt.grid(True)\n",
    "plt.show()"
   ]
  },
  {
   "cell_type": "markdown",
   "id": "df0ec923-8de4-4142-8cf5-0e1bf42347cf",
   "metadata": {},
   "source": [
    "Q10. Write a Python program to calculate the two-sample t-test for independent samples, given two\n",
    "random samples of equal size and a null hypothesis that the population means are equal\n",
    "\n",
    "Ans- "
   ]
  },
  {
   "cell_type": "code",
   "execution_count": 6,
   "id": "0cfc67af-0487-4ca0-8538-aaaf19e669fb",
   "metadata": {},
   "outputs": [
    {
     "name": "stdout",
     "output_type": "stream",
     "text": [
      "T statistics:  2.804041400098031\n",
      "P-Value:  0.006854000433095078\n",
      "Reject the null hypothesis : There is a significant differnce betweem the means of the two sample.\n"
     ]
    }
   ],
   "source": [
    "n= 30\n",
    "\n",
    "np.random.seed(0)\n",
    "sample1 = np.random.normal(loc=5, scale=1.5, size=n)\n",
    "sample2 = np.random.normal(loc=5, scale=1.5, size=n)\n",
    "\n",
    "t_stat , p_value = stats.ttest_ind(sample1,sample2)\n",
    "\n",
    "print(\"T statistics: \",t_stat)\n",
    "print(\"P-Value: \",p_value)\n",
    "\n",
    "alpha = 0.05\n",
    "\n",
    "if p_value < alpha:\n",
    "    print(\"Reject the null hypothesis : There is a significant differnce betweem the means of the two sample.\")\n",
    "else :\n",
    "    print(\"Fail to reject the null hypothesis: there is np significant differnce between the means of the two sample\")\n",
    "    \n"
   ]
  },
  {
   "cell_type": "markdown",
   "id": "0add475f-d10d-4079-9b1c-2342b1fbc8c6",
   "metadata": {},
   "source": [
    "Q11: What is Student’s t distribution? When to use the t-Distribution.\n",
    "\n",
    "Ans - Student T- distribution is a probability distribution used when the sample size is small and the standard deviation is unknown . it resembles the normal distribution but has heavier tails , meaning it accounts for more variability in data\n",
    "\n",
    "\n",
    "When to use the t- distribution \n",
    "\n",
    "- Small Sample size (typically n<30)\n",
    "- Unknown Population Standard deviation : When the popultation standard deviation is unknown and estimated from the sample \n",
    "- Confidence Interval and Hypothesis Testing : It is used to calculate confidence interval and conduct t-tests to campare means \n",
    "\n",
    "T - distribution is crucial for acurate statistical analysis in small samples"
   ]
  },
  {
   "cell_type": "markdown",
   "id": "517c610c-b0a6-42b7-846f-ffd3616207a1",
   "metadata": {},
   "source": [
    "Q12: What is t-statistic? State the formula for t-statistic\n",
    "\n",
    "Ans - The t-statistics is a vlaue used in hypothesis testing , particularly in t-tests, to determine whether there is a significant difference between the sample mean and population mean or between of two samples . it measures how far the sample mean id from the population mean in terms of the standard error\n",
    "\n",
    "formula for the t-statistis \n",
    "$$\n",
    "t = \\frac{\\bar{X} - \\mu}{\\frac{s}{\\sqrt{n}}}\n",
    "$$\n",
    "\n",
    "- X bar : sample mean\n",
    "- μ : Population mean\n",
    "- s : Sample standard deviation \n",
    "- n : Sample size \n"
   ]
  },
  {
   "cell_type": "markdown",
   "id": "d1e8310e-05ce-4334-b697-d415c1466743",
   "metadata": {},
   "source": [
    "Q13. A coffee shop owner wants to estimate the average daily revenue for their shop. They take a random\n",
    "sample of 50 days and find the sample mean revenue to be $500 with a standard deviation of $50.\n",
    "Estimate the population mean revenue with a 95% confidence interval.\n",
    "\n",
    "Ans - \n",
    "\n",
    "x bar = 500\n",
    "sample std deviation (s) = 50\n",
    "Confidence interval (C.I) = 95%\n",
    "Sample size (n) = 50\n",
    "\n",
    "## Calulating the Standard error (SE)\n",
    "\n",
    "$$\n",
    "SE = \\frac{s}{\\sqrt{n}} = \\frac{50}{\\sqrt{50}} \\approx 7.07\n",
    "$$\n",
    "\n",
    "this means sample mean could vary about  $ 7.07 from the true population mean\n",
    "\n",
    "\n",
    "\n",
    "\n",
    "## Determining the z score for 95% confidernce level\n",
    "\n",
    "for CI = 95% the z score = 1.96\n",
    "\n",
    "\n",
    "\n",
    "\n",
    "## Calculate the margin of error (ME)\n",
    "\n",
    "ME = z*SE\n",
    "ME = 1.96*7.07\n",
    "ME ≈ 13.86\n",
    "\n",
    "This means the average daily revenue could vary by about $ 13.86\n",
    "\n",
    "\n",
    "\n",
    "\n",
    "##  Calculating the Confidence Interval \n",
    "\n",
    "CI = Xbar ± ME\n",
    "\n",
    "Lower Limit=500−13.86=486.14\n",
    "\n",
    "\n",
    "Upper Limit=500+13.86=513.86\n",
    "\n",
    "the 95% confidence interval for the average daily revenue is $486.14 to $513.86\n",
    "\n",
    "this means 95% sure that the true average daily revenue falls between  $486.14 to $513.86"
   ]
  },
  {
   "cell_type": "markdown",
   "id": "bc4f634d-0096-4717-aa1b-62834f1776a9",
   "metadata": {},
   "source": [
    "Q14. A researcher hypothesizes that a new drug will decrease blood pressure by 10 mmHg. They conduct a\n",
    "clinical trial with 100 patients and find that the sample mean decrease in blood pressure is 8 mmHg with a\n",
    "standard deviation of 3 mmHg. Test the hypothesis with a significance level of 0.05.\n",
    "\n",
    "Ans - \n",
    "- μ : Population mean = 10\n",
    "- x bar = 8\n",
    "- s : Sample standard deviation = 3\n",
    "- significance value = 0.01\n",
    "- C.I = 0.95\n",
    "\n",
    "\n",
    "Null hypothesis Ho = μ =10\n",
    "Alternative Hypothesis H1 = μ < 10\n",
    "\n",
    "degree of freedom = n-1 = 100-1 = 99\n",
    "\n",
    "\n",
    "## Calculating t test\n",
    "\n",
    "  $$\n",
    "t = \\frac{\\bar{X} - \\mu_0}{\\frac{s}{\\sqrt{n}}}\n",
    "$$\n",
    "\n",
    "$$\n",
    "t = \\frac{8 - 10}{\\frac{3}{\\sqrt{100}}} = \\frac{-2}{0.3} \\approx -6.67\n",
    "$$\n",
    "\n",
    "by there in t- table\n",
    "- Significance value = 0.05\n",
    "- df = 99\n",
    "\n",
    "the critacal value is around -1.66\n",
    "\n",
    "## Conclusion \n",
    "\n",
    "Decision rule = if t- test is less than -6.67 then we reject the null hypothesis\n",
    "- here -6.67 is much smaller than -6.67 so we reject the null hypothresis "
   ]
  },
  {
   "cell_type": "markdown",
   "id": "24c0a0c1-490a-4b18-aaff-d1564a65e715",
   "metadata": {},
   "source": [
    "Q15. An electronics company produces a certain type of product with a mean weight of 5 pounds and a\n",
    "standard deviation of 0.5 pounds. A random sample of 25 products is taken, and the sample mean weight\n",
    "is found to be 4.8 pounds. Test the hypothesis that the true mean weight of the products is less than 5\n",
    "pounds with a significance level of 0.01.\n",
    "\n",
    "Ans - \n",
    "- μ : Population mean = 5\n",
    "- x bar = 4.8\n",
    "- population standard deviation = 0.5\n",
    "- sample size (n) = 5\n",
    "- significance value = 0.01\n",
    "- C.I = 0.95\n",
    "\n",
    "Null hypothesis Ho = μ = 5\n",
    "Alternative hypothesis H 1 = μ < 5\n",
    "\n",
    "## Determining the test statistics \n",
    "\n",
    "since we know the population standard deviation we can use z test\n",
    "\n",
    "$$\n",
    "z = \\frac{\\bar{X} - \\mu_0}{\\frac{\\sigma}{\\sqrt{n}}}\n",
    "$$\n",
    "\n",
    "$$\n",
    "z = \\frac{4.8 - 5}{\\frac{0.5}{\\sqrt{25}}} = \\frac{-0.2}{0.1} = -2.0\n",
    "$$\n",
    "\n",
    "## Determining the critcal value \n",
    "\n",
    "- for one tailed  at the 0.01 Significance level critical z value for aplha = 0.01 is -2.33\n",
    "\n",
    "## Comparing test statistics to the critcal value \n",
    "\n",
    "- if the z value is less than the critcal value , we reject the null hypothesis\n",
    "\n",
    "## Conclusion\n",
    "\n",
    "SINCe , -2.0 is greater than -2.33 we fail to reject the null hypothesis\n",
    "- This means that there is not enough evidence at the 0.01 Significance level to conclude that the true mean weight of product is less than 5 pound"
   ]
  },
  {
   "cell_type": "markdown",
   "id": "093df1b1-6bb6-462e-98b8-01f40a443b2e",
   "metadata": {},
   "source": [
    "Q16. Two groups of students are given different study materials to prepare for a test. The first group (n1 =\n",
    "30) has a mean score of 80 with a standard deviation of 10, and the second group (n2 = 40) has a mean\n",
    "score of 75 with a standard deviation of 8. Test the hypothesis that the population means for the two\n",
    "groups are equal with a significance level of 0.01.\n",
    "\n",
    "Ans - \n",
    "\n",
    "- μ1 = 80 , μ2 =75 \n",
    "- s1 = 10 , s2 = 8\n",
    "- n1 = 30 , n2 = 40\n",
    "\n",
    "Null hypothesis Ho = μ1 = μ2\n",
    "Alternative hypothesis H1 = μ1 is not equal to μ2\n",
    "\n",
    "## Determining the test statistics\n",
    "\n",
    "we can use  two smpple t -test \n",
    "\n",
    "formula \n",
    "\n",
    "$$\n",
    "t = \\frac{\\bar{X}_1 - \\bar{X}_2}{\\sqrt{\\frac{s_1^2}{n_1} + \\frac{s_2^2}{n_2}}}\n",
    "$$\n",
    "\n",
    "$$\n",
    "t = \\frac{80 - 75}{2.22} \\approx 2.25\n",
    "$$\n",
    "\n",
    "## Finding the critcal value \n",
    "using  t-table \n",
    "- df= n1+n2-2 =30+40-2 = 68\n",
    "\n",
    "- significance value = 0.01\n",
    " \n",
    "### Critcal value = 2.660\n",
    "\n",
    "## Comparing t value to critcal value \n",
    "\n",
    "- t value = 2.25\n",
    "- critical value = ±2.660\n",
    "\n",
    "since , 2.25 < 2.660 it does not reach the level where considered the difference significant\n",
    "\n",
    "## Conclusion \n",
    "\n",
    "2.25<2.660 , we fail to reject the null hy"
   ]
  },
  {
   "cell_type": "markdown",
   "id": "cb52f5c1-2f6c-4b5e-88ed-948abde0839c",
   "metadata": {},
   "source": [
    "Q17. A marketing company wants to estimate the average number of ads watched by viewers during a TV\n",
    "program. They take a random sample of 50 viewers and find that the sample mean is 4 with a standard\n",
    "deviation of 1.5. Estimate the population mean with a 99% confidence interval.\n",
    "\n",
    "Ans - \n",
    "\n",
    "- xbar = 4\n",
    "- n = 50\n",
    "- sample std deviation = 1.5\n",
    "- C.I = 99 %\n",
    "\n",
    "Identifying the z value for 99% confidence interval\n",
    "for 99%  confidence interval the z value  (critcal value) is typically  2.576\n",
    "\n",
    "## Calculate the standard errorr\n",
    "$$\n",
    "SE = \\frac{s}{\\sqrt{n}} = \\frac{1.5}{\\sqrt{50}} \\approx \\frac{1.5}{7.071} \\approx 0.212\n",
    "$$\n",
    "\n",
    "## Calculating the margin of error\n",
    "\n",
    "$$\n",
    "ME = Z \\times SE = 2.576 \\times 0.0212 \\approx 0.0546\n",
    "$$\n",
    "\n",
    "## Calculating the confidence interval\n",
    "\n",
    "Lower bound = xbar - ME = 4-0.546 = 3.454\n",
    "\n",
    "upperbound = xbar - ME = 4+0.546 = 4.546\n",
    "\n",
    "## Conlusion\n",
    "\n",
    "you can be 99% confident that the true population mean number off ads \n",
    "watched by viewers lies between 3.546 to 4.546 ads "
   ]
  },
  {
   "cell_type": "code",
   "execution_count": null,
   "id": "0da41c87-508d-4e1c-b2c6-5b465b54c454",
   "metadata": {},
   "outputs": [],
   "source": []
  }
 ],
 "metadata": {
  "kernelspec": {
   "display_name": "Python 3 (ipykernel)",
   "language": "python",
   "name": "python3"
  },
  "language_info": {
   "codemirror_mode": {
    "name": "ipython",
    "version": 3
   },
   "file_extension": ".py",
   "mimetype": "text/x-python",
   "name": "python",
   "nbconvert_exporter": "python",
   "pygments_lexer": "ipython3",
   "version": "3.10.8"
  }
 },
 "nbformat": 4,
 "nbformat_minor": 5
}
